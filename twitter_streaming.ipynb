{
 "cells": [
  {
   "cell_type": "code",
   "execution_count": null,
   "metadata": {
    "collapsed": false
   },
   "outputs": [],
   "source": [
    "#Import the necessary methods from tweepy library\n",
    "from tweepy.streaming import StreamListener\n",
    "from tweepy import OAuthHandler\n",
    "from tweepy import Stream\n",
    "\n",
    "#Variables that contains the user credentials to access Twitter API \n",
    "access_token = \"2932636388-XF6XFA8UG5xSyIs1KllTwlnhD6KL9sSB9huCXar\"\n",
    "access_token_secret = \"6uBdK4xlaoPAsrD70SqYAwqI7L7jwuUaiRTrGgTPlY0Ze\"\n",
    "consumer_key = \"4jVK9qOh8olv9jb1BKxzJob6D\"\n",
    "consumer_secret = \"i1B4uRN5cnNrNGYj8417uTK6d3lnzhJD4rbjYcArtHdlkAszVD\"\n",
    "\n",
    "\n",
    "#This is a basic listener that just prints received tweets to stdout.\n",
    "class StdOutListener(StreamListener):\n",
    "\n",
    "    def on_data(self, data):\n",
    "        #print data\n",
    "        with open('fetched_tweets.txt','a') as tf:\n",
    "            tf.write(data)\n",
    "        return True\n",
    "\n",
    "    def on_error(self, status):\n",
    "        print status\n",
    "\n",
    "\n",
    "if __name__ == '__main__':\n",
    "\n",
    "    #This handles Twitter authetification and the connection to Twitter Streaming API\n",
    "    l = StdOutListener()\n",
    "    auth = OAuthHandler(consumer_key, consumer_secret)\n",
    "    auth.set_access_token(access_token, access_token_secret)\n",
    "    stream = Stream(auth, l)\n",
    "\n",
    "    #This line filter Twitter Streams to capture data by the keywords: 'python', 'javascript', 'ruby'\n",
    "    stream.filter(track=['python', 'javascript', 'ruby'])"
   ]
  },
  {
   "cell_type": "code",
   "execution_count": 74,
   "metadata": {
    "collapsed": false
   },
   "outputs": [],
   "source": [
    "import pandas as pd\n",
    "import numpy as np\n",
    "from pandas import Series,DataFrame\n",
    "import json\n",
    "\n",
    "import matplotlib as mpl\n",
    "import matplotlib.pyplot as plt\n",
    "import seaborn as sns\n",
    "\n",
    "%matplotlib inline"
   ]
  },
  {
   "cell_type": "code",
   "execution_count": 9,
   "metadata": {
    "collapsed": false
   },
   "outputs": [],
   "source": [
    "tweets_data = []\n",
    "tweets_file = open('fetched_tweets.txt', \"r\")\n",
    "for line in tweets_file:\n",
    "    try:\n",
    "        tweet = json.loads(line)\n",
    "        tweets_data.append(tweet)\n",
    "    except:\n",
    "        continue"
   ]
  },
  {
   "cell_type": "code",
   "execution_count": 10,
   "metadata": {
    "collapsed": false
   },
   "outputs": [
    {
     "name": "stdout",
     "output_type": "stream",
     "text": [
      "1169\n"
     ]
    }
   ],
   "source": [
    "print len(tweets_data)"
   ]
  },
  {
   "cell_type": "code",
   "execution_count": 11,
   "metadata": {
    "collapsed": true
   },
   "outputs": [],
   "source": [
    "tweets = pd.DataFrame()"
   ]
  },
  {
   "cell_type": "code",
   "execution_count": 12,
   "metadata": {
    "collapsed": true
   },
   "outputs": [],
   "source": [
    "tweets['text'] = map(lambda tweet: tweet['text'], tweets_data)\n",
    "tweets['lang'] = map(lambda tweet: tweet['lang'], tweets_data)\n",
    "tweets['country'] = map(lambda tweet: tweet['place']['country'] if tweet['place'] != None else None, tweets_data)"
   ]
  },
  {
   "cell_type": "code",
   "execution_count": 54,
   "metadata": {
    "collapsed": false
   },
   "outputs": [
    {
     "data": {
      "text/html": [
       "<div>\n",
       "<table border=\"1\" class=\"dataframe\">\n",
       "  <thead>\n",
       "    <tr style=\"text-align: right;\">\n",
       "      <th></th>\n",
       "      <th>text</th>\n",
       "      <th>lang</th>\n",
       "      <th>country</th>\n",
       "    </tr>\n",
       "  </thead>\n",
       "  <tbody>\n",
       "    <tr>\n",
       "      <th>0</th>\n",
       "      <td>Saudi Arabia S7 Rumor Roundup: 10 Leaked Featu...</td>\n",
       "      <td>en</td>\n",
       "      <td>None</td>\n",
       "    </tr>\n",
       "    <tr>\n",
       "      <th>1</th>\n",
       "      <td>♮§ Santa Deal 1/2 Pink and ruby Red Glass Seed...</td>\n",
       "      <td>en</td>\n",
       "      <td>None</td>\n",
       "    </tr>\n",
       "    <tr>\n",
       "      <th>2</th>\n",
       "      <td>RT @KingEgi: Experimenting with #ZeroMQ + #Gev...</td>\n",
       "      <td>en</td>\n",
       "      <td>None</td>\n",
       "    </tr>\n",
       "    <tr>\n",
       "      <th>3</th>\n",
       "      <td>@notsam @OpieRadio \\nIs that Roland in the bac...</td>\n",
       "      <td>en</td>\n",
       "      <td>None</td>\n",
       "    </tr>\n",
       "    <tr>\n",
       "      <th>4</th>\n",
       "      <td>Taking a JavaScript class this semester &amp;amp; ...</td>\n",
       "      <td>en</td>\n",
       "      <td>None</td>\n",
       "    </tr>\n",
       "  </tbody>\n",
       "</table>\n",
       "</div>"
      ],
      "text/plain": [
       "                                                text lang country\n",
       "0  Saudi Arabia S7 Rumor Roundup: 10 Leaked Featu...   en    None\n",
       "1  ♮§ Santa Deal 1/2 Pink and ruby Red Glass Seed...   en    None\n",
       "2  RT @KingEgi: Experimenting with #ZeroMQ + #Gev...   en    None\n",
       "3  @notsam @OpieRadio \\nIs that Roland in the bac...   en    None\n",
       "4  Taking a JavaScript class this semester &amp; ...   en    None"
      ]
     },
     "execution_count": 54,
     "metadata": {},
     "output_type": "execute_result"
    }
   ],
   "source": [
    "tweets.head()"
   ]
  },
  {
   "cell_type": "code",
   "execution_count": 106,
   "metadata": {
    "collapsed": false
   },
   "outputs": [
    {
     "data": {
      "text/plain": [
       "en     959\n",
       "es      39\n",
       "fr      29\n",
       "pt      21\n",
       "ja      20\n",
       "de      17\n",
       "und     17\n",
       "ht      11\n",
       "ro      10\n",
       "et       9\n",
       "in       8\n",
       "it       7\n",
       "nl       6\n",
       "cs       3\n",
       "sv       2\n",
       "ru       2\n",
       "fi       2\n",
       "tl       2\n",
       "da       1\n",
       "pl       1\n",
       "fa       1\n",
       "ar       1\n",
       "cy       1\n",
       "Name: lang, dtype: int64"
      ]
     },
     "execution_count": 106,
     "metadata": {},
     "output_type": "execute_result"
    }
   ],
   "source": [
    "tweets_by_lang = tweets['lang'].value_counts()\n",
    "tweets_by_lang"
   ]
  },
  {
   "cell_type": "code",
   "execution_count": null,
   "metadata": {
    "collapsed": false
   },
   "outputs": [],
   "source": []
  },
  {
   "cell_type": "code",
   "execution_count": 107,
   "metadata": {
    "collapsed": false
   },
   "outputs": [
    {
     "data": {
      "text/plain": [
       "<matplotlib.axes._subplots.AxesSubplot at 0x227c96a0>"
      ]
     },
     "execution_count": 107,
     "metadata": {},
     "output_type": "execute_result"
    },
    {
     "data": {
      "image/png": "[encoded data removed]",
      "text/plain": [
       "<matplotlib.figure.Figure at 0x2393eeb8>"
      ]
     },
     "metadata": {},
     "output_type": "display_data"
    }
   ],
   "source": [
    "fig, ax = plt.subplots()\n",
    "ax.tick_params(axis='x', labelsize=15)\n",
    "ax.tick_params(axis='y', labelsize=10)\n",
    "ax.set_xlabel('Languages', fontsize=15)\n",
    "ax.set_ylabel('Number of tweets' , fontsize=15)\n",
    "ax.set_title('Top 5 languages', fontsize=15, fontweight='bold')\n",
    "tweets_by_lang[:5].plot(ax=ax, kind='bar', color='red')"
   ]
  },
  {
   "cell_type": "code",
   "execution_count": 110,
   "metadata": {
    "collapsed": false
   },
   "outputs": [
    {
     "data": {
      "text/plain": [
       "United States     10\n",
       "United Kingdom     4\n",
       "Paraguay           1\n",
       "Malaysia           1\n",
       "Portugal           1\n",
       "Brasil             1\n",
       "France             1\n",
       "España             1\n",
       "Name: country, dtype: int64"
      ]
     },
     "execution_count": 110,
     "metadata": {},
     "output_type": "execute_result"
    }
   ],
   "source": [
    "tweets_by_country = tweets['country'].value_counts()\n",
    "tweets_by_country"
   ]
  },
  {
   "cell_type": "code",
   "execution_count": 115,
   "metadata": {
    "collapsed": false
   },
   "outputs": [
    {
     "data": {
      "text/plain": [
       "<matplotlib.axes._subplots.AxesSubplot at 0x22a14128>"
      ]
     },
     "execution_count": 115,
     "metadata": {},
     "output_type": "execute_result"
    },
    {
     "data": {
      "image/png": "[encoded data removed]",
      "text/plain": [
       "<matplotlib.figure.Figure at 0x241e3a58>"
      ]
     },
     "metadata": {},
     "output_type": "display_data"
    }
   ],
   "source": [
    "fig,ax = plt.subplots()\n",
    "ax.tick_params(axis='x',labelsize=15)\n",
    "ax.tick_params(axis='y',labelsize=15)\n",
    "ax.set_xlabel('Countries',fontsize=15)\n",
    "ax.set_ylabel('Number of Tweets',fontsize=15)\n",
    "ax.set_title('Top 5 countries',fontsize=20)\n",
    "tweets_by_countries[:5].plot(ax=ax,kind='bar',color='blue')"
   ]
  },
  {
   "cell_type": "code",
   "execution_count": 118,
   "metadata": {
    "collapsed": false
   },
   "outputs": [],
   "source": [
    "import re\n",
    "\n",
    "def word_in_text(word,text):\n",
    "    word = word.lower()\n",
    "    text = text.lower()\n",
    "    match = re.search(word,text)\n",
    "    if(match):\n",
    "        return True\n",
    "    else:\n",
    "        return False\n",
    "        "
   ]
  },
  {
   "cell_type": "code",
   "execution_count": 119,
   "metadata": {
    "collapsed": false
   },
   "outputs": [],
   "source": [
    "tweets['python'] = tweets['text'].apply(lambda tweet : word_in_text('python',tweet))\n",
    "tweets['javascript'] = tweets['text'].apply(lambda tweet : word_in_text('javascript',tweet))\n",
    "tweets['ruby'] = tweets['text'].apply(lambda tweet : word_in_text('ruby',tweet))"
   ]
  },
  {
   "cell_type": "code",
   "execution_count": 122,
   "metadata": {
    "collapsed": false
   },
   "outputs": [
    {
     "data": {
      "text/html": [
       "<div>\n",
       "<table border=\"1\" class=\"dataframe\">\n",
       "  <thead>\n",
       "    <tr style=\"text-align: right;\">\n",
       "      <th></th>\n",
       "      <th>text</th>\n",
       "      <th>lang</th>\n",
       "      <th>country</th>\n",
       "      <th>python</th>\n",
       "      <th>javascript</th>\n",
       "      <th>ruby</th>\n",
       "    </tr>\n",
       "  </thead>\n",
       "  <tbody>\n",
       "    <tr>\n",
       "      <th>0</th>\n",
       "      <td>Saudi Arabia S7 Rumor Roundup: 10 Leaked Featu...</td>\n",
       "      <td>en</td>\n",
       "      <td>None</td>\n",
       "      <td>False</td>\n",
       "      <td>True</td>\n",
       "      <td>False</td>\n",
       "    </tr>\n",
       "    <tr>\n",
       "      <th>1</th>\n",
       "      <td>♮§ Santa Deal 1/2 Pink and ruby Red Glass Seed...</td>\n",
       "      <td>en</td>\n",
       "      <td>None</td>\n",
       "      <td>False</td>\n",
       "      <td>False</td>\n",
       "      <td>True</td>\n",
       "    </tr>\n",
       "    <tr>\n",
       "      <th>2</th>\n",
       "      <td>RT @KingEgi: Experimenting with #ZeroMQ + #Gev...</td>\n",
       "      <td>en</td>\n",
       "      <td>None</td>\n",
       "      <td>True</td>\n",
       "      <td>False</td>\n",
       "      <td>False</td>\n",
       "    </tr>\n",
       "    <tr>\n",
       "      <th>3</th>\n",
       "      <td>@notsam @OpieRadio \\nIs that Roland in the bac...</td>\n",
       "      <td>en</td>\n",
       "      <td>None</td>\n",
       "      <td>False</td>\n",
       "      <td>False</td>\n",
       "      <td>True</td>\n",
       "    </tr>\n",
       "    <tr>\n",
       "      <th>4</th>\n",
       "      <td>Taking a JavaScript class this semester &amp;amp; ...</td>\n",
       "      <td>en</td>\n",
       "      <td>None</td>\n",
       "      <td>False</td>\n",
       "      <td>True</td>\n",
       "      <td>False</td>\n",
       "    </tr>\n",
       "  </tbody>\n",
       "</table>\n",
       "</div>"
      ],
      "text/plain": [
       "                                                text lang country python  \\\n",
       "0  Saudi Arabia S7 Rumor Roundup: 10 Leaked Featu...   en    None  False   \n",
       "1  ♮§ Santa Deal 1/2 Pink and ruby Red Glass Seed...   en    None  False   \n",
       "2  RT @KingEgi: Experimenting with #ZeroMQ + #Gev...   en    None   True   \n",
       "3  @notsam @OpieRadio \\nIs that Roland in the bac...   en    None  False   \n",
       "4  Taking a JavaScript class this semester &amp; ...   en    None  False   \n",
       "\n",
       "  javascript   ruby  \n",
       "0       True  False  \n",
       "1      False   True  \n",
       "2      False  False  \n",
       "3      False   True  \n",
       "4       True  False  "
      ]
     },
     "execution_count": 122,
     "metadata": {},
     "output_type": "execute_result"
    }
   ],
   "source": [
    "tweets.head()"
   ]
  },
  {
   "cell_type": "code",
   "execution_count": 121,
   "metadata": {
    "collapsed": false
   },
   "outputs": [
    {
     "name": "stdout",
     "output_type": "stream",
     "text": [
      "323\n",
      "296\n",
      "485\n"
     ]
    }
   ],
   "source": [
    "print tweets['python'].value_counts()[True]\n",
    "print tweets['javascript'].value_counts()[True]\n",
    "print tweets['ruby'].value_counts()[True]"
   ]
  },
  {
   "cell_type": "code",
   "execution_count": 129,
   "metadata": {
    "collapsed": false
   },
   "outputs": [],
   "source": [
    "prg_lang = ['python','javascript','ruby']\n",
    "prg_lang_count_dict = {'pyhton':tweets['python'].value_counts()[True],'javascript':tweets['javascript'].value_counts()[True],\n",
    "                      'ruby':tweets['ruby'].value_counts()[True]};"
   ]
  },
  {
   "cell_type": "code",
   "execution_count": 134,
   "metadata": {
    "collapsed": false
   },
   "outputs": [],
   "source": [
    "prg_lang_count = Series(prg_lang_count_dict)"
   ]
  },
  {
   "cell_type": "code",
   "execution_count": 143,
   "metadata": {
    "collapsed": false
   },
   "outputs": [
    {
     "data": {
      "text/plain": [
       "<matplotlib.axes._subplots.AxesSubplot at 0x2505db38>"
      ]
     },
     "execution_count": 143,
     "metadata": {},
     "output_type": "execute_result"
    },
    {
     "data": {
      "image/png": "[encoded data removed]",
      "text/plain": [
       "<matplotlib.figure.Figure at 0x24fef278>"
      ]
     },
     "metadata": {},
     "output_type": "display_data"
    }
   ],
   "source": [
    "fig,ax = plt.subplots()\n",
    "ax.tick_params(axis='x',labelsize=15)\n",
    "ax.tick_params(axis='y',labelsize=15)\n",
    "ax.set_xlabel('Programming Languages',fontsize=20)\n",
    "ax.set_ylabel('Counts',fontsize=20)\n",
    "ax.set_title('Programing Languages comparision Chart(Raw Data)',fontsize=20)\n",
    "prg_lang_count.plot(ax = ax,kind='bar',color='indianred')"
   ]
  },
  {
   "cell_type": "code",
   "execution_count": 145,
   "metadata": {
    "collapsed": false
   },
   "outputs": [],
   "source": [
    "tweets['programming'] = tweets['text'].apply(lambda tweet:word_in_text('programming',tweet))\n",
    "tweets['tutorial'] = tweets['text'].apply(lambda tweet:word_in_text('tutorial',tweet))"
   ]
  },
  {
   "cell_type": "code",
   "execution_count": 147,
   "metadata": {
    "collapsed": false
   },
   "outputs": [],
   "source": [
    "tweets['relevant'] = tweets['text'].apply(lambda tweet:word_in_text('programming',tweet) or \n",
    "                                          word_in_text('tutorial',tweet))"
   ]
  },
  {
   "cell_type": "code",
   "execution_count": 151,
   "metadata": {
    "collapsed": false
   },
   "outputs": [
    {
     "data": {
      "text/html": [
       "<div>\n",
       "<table border=\"1\" class=\"dataframe\">\n",
       "  <thead>\n",
       "    <tr style=\"text-align: right;\">\n",
       "      <th></th>\n",
       "      <th>text</th>\n",
       "      <th>lang</th>\n",
       "      <th>country</th>\n",
       "      <th>python</th>\n",
       "      <th>javascript</th>\n",
       "      <th>ruby</th>\n",
       "      <th>programming</th>\n",
       "      <th>tutorial</th>\n",
       "      <th>relevant</th>\n",
       "    </tr>\n",
       "  </thead>\n",
       "  <tbody>\n",
       "    <tr>\n",
       "      <th>0</th>\n",
       "      <td>Saudi Arabia S7 Rumor Roundup: 10 Leaked Featu...</td>\n",
       "      <td>en</td>\n",
       "      <td>None</td>\n",
       "      <td>False</td>\n",
       "      <td>True</td>\n",
       "      <td>False</td>\n",
       "      <td>False</td>\n",
       "      <td>False</td>\n",
       "      <td>False</td>\n",
       "    </tr>\n",
       "    <tr>\n",
       "      <th>1</th>\n",
       "      <td>♮§ Santa Deal 1/2 Pink and ruby Red Glass Seed...</td>\n",
       "      <td>en</td>\n",
       "      <td>None</td>\n",
       "      <td>False</td>\n",
       "      <td>False</td>\n",
       "      <td>True</td>\n",
       "      <td>False</td>\n",
       "      <td>False</td>\n",
       "      <td>False</td>\n",
       "    </tr>\n",
       "    <tr>\n",
       "      <th>2</th>\n",
       "      <td>RT @KingEgi: Experimenting with #ZeroMQ + #Gev...</td>\n",
       "      <td>en</td>\n",
       "      <td>None</td>\n",
       "      <td>True</td>\n",
       "      <td>False</td>\n",
       "      <td>False</td>\n",
       "      <td>False</td>\n",
       "      <td>False</td>\n",
       "      <td>False</td>\n",
       "    </tr>\n",
       "    <tr>\n",
       "      <th>3</th>\n",
       "      <td>@notsam @OpieRadio \\nIs that Roland in the bac...</td>\n",
       "      <td>en</td>\n",
       "      <td>None</td>\n",
       "      <td>False</td>\n",
       "      <td>False</td>\n",
       "      <td>True</td>\n",
       "      <td>False</td>\n",
       "      <td>False</td>\n",
       "      <td>False</td>\n",
       "    </tr>\n",
       "    <tr>\n",
       "      <th>4</th>\n",
       "      <td>Taking a JavaScript class this semester &amp;amp; ...</td>\n",
       "      <td>en</td>\n",
       "      <td>None</td>\n",
       "      <td>False</td>\n",
       "      <td>True</td>\n",
       "      <td>False</td>\n",
       "      <td>False</td>\n",
       "      <td>False</td>\n",
       "      <td>False</td>\n",
       "    </tr>\n",
       "  </tbody>\n",
       "</table>\n",
       "</div>"
      ],
      "text/plain": [
       "                                                text lang country python  \\\n",
       "0  Saudi Arabia S7 Rumor Roundup: 10 Leaked Featu...   en    None  False   \n",
       "1  ♮§ Santa Deal 1/2 Pink and ruby Red Glass Seed...   en    None  False   \n",
       "2  RT @KingEgi: Experimenting with #ZeroMQ + #Gev...   en    None   True   \n",
       "3  @notsam @OpieRadio \\nIs that Roland in the bac...   en    None  False   \n",
       "4  Taking a JavaScript class this semester &amp; ...   en    None  False   \n",
       "\n",
       "  javascript   ruby programming tutorial relevant  \n",
       "0       True  False       False    False    False  \n",
       "1      False   True       False    False    False  \n",
       "2      False  False       False    False    False  \n",
       "3      False   True       False    False    False  \n",
       "4       True  False       False    False    False  "
      ]
     },
     "execution_count": 151,
     "metadata": {},
     "output_type": "execute_result"
    }
   ],
   "source": [
    "tweets.head()"
   ]
  },
  {
   "cell_type": "code",
   "execution_count": 150,
   "metadata": {
    "collapsed": false
   },
   "outputs": [
    {
     "name": "stdout",
     "output_type": "stream",
     "text": [
      "25\n",
      "7\n",
      "31\n"
     ]
    }
   ],
   "source": [
    "print tweets['programming'].value_counts()[True]\n",
    "print tweets['tutorial'].value_counts()[True]\n",
    "print tweets['relevant'].value_counts()[True]\n"
   ]
  },
  {
   "cell_type": "code",
   "execution_count": 152,
   "metadata": {
    "collapsed": true
   },
   "outputs": [],
   "source": [
    "tweets_by_prg_lang = [tweets[tweets['relevant'] == True]['python'].value_counts()[True], \n",
    "                      tweets[tweets['relevant'] == True]['javascript'].value_counts()[True], \n",
    "                      tweets[tweets['relevant'] == True]['ruby'].value_counts()[True]]"
   ]
  },
  {
   "cell_type": "code",
   "execution_count": 156,
   "metadata": {
    "collapsed": false
   },
   "outputs": [],
   "source": [
    "tweets_by_lang = Series(tweets_by_prg_lang,index=prg_lang)"
   ]
  },
  {
   "cell_type": "code",
   "execution_count": 158,
   "metadata": {
    "collapsed": false
   },
   "outputs": [
    {
     "data": {
      "text/plain": [
       "<matplotlib.axes._subplots.AxesSubplot at 0x25780a90>"
      ]
     },
     "execution_count": 158,
     "metadata": {},
     "output_type": "execute_result"
    },
    {
     "data": {
      "image/png": "[encoded data removed]",
      "text/plain": [
       "<matplotlib.figure.Figure at 0x252ab748>"
      ]
     },
     "metadata": {},
     "output_type": "display_data"
    }
   ],
   "source": [
    "fig,ax = plt.subplots()\n",
    "ax.tick_params(axis='x',labelsize=15)\n",
    "ax.tick_params(axis='y',labelsize=15)\n",
    "ax.set_xlabel('Programming Languages',fontsize=20)\n",
    "ax.set_ylabel('Counts',fontsize=20)\n",
    "ax.set_title('Programing Languages comparision Chart(Relevant)',fontsize=20)\n",
    "tweets_by_lang.plot(ax = ax,kind='bar',color='indianred')"
   ]
  },
  {
   "cell_type": "code",
   "execution_count": null,
   "metadata": {
    "collapsed": true
   },
   "outputs": [],
   "source": []
  }
 ],
 "metadata": {
  "kernelspec": {
   "display_name": "Python 2",
   "language": "python",
   "name": "python2"
  },
  "language_info": {
   "codemirror_mode": {
    "name": "ipython",
    "version": 2
   },
   "file_extension": ".py",
   "mimetype": "text/x-python",
   "name": "python",
   "nbconvert_exporter": "python",
   "pygments_lexer": "ipython2",
   "version": "2.7.11"
  }
 },
 "nbformat": 4,
 "nbformat_minor": 0
}
